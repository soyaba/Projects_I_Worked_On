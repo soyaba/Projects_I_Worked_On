{
 "cells": [
  {
   "cell_type": "markdown",
   "metadata": {},
   "source": [
    "# Combinatòria"
   ]
  },
  {
   "cell_type": "markdown",
   "metadata": {},
   "source": [
    "Pràctica amb comandes pròpies de la combinatòria, per **comptar** i també per **generar** les instàncies de forma explícita."
   ]
  },
  {
   "cell_type": "markdown",
   "metadata": {},
   "source": [
    "## Comandes bàsiques"
   ]
  },
  {
   "cell_type": "markdown",
   "metadata": {},
   "source": [
    "### Factorial i nombres combinatoris"
   ]
  },
  {
   "cell_type": "code",
   "execution_count": 1,
   "metadata": {},
   "outputs": [
    {
     "data": {
      "text/plain": [
       "93326215443944152681699238856266700490715968264381621468592963895217599993229915608941463976156518286253697920827223758251185210916864000000000000000000000000"
      ]
     },
     "execution_count": 1,
     "metadata": {},
     "output_type": "execute_result"
    }
   ],
   "source": [
    "factorial(100)"
   ]
  },
  {
   "cell_type": "code",
   "execution_count": 5,
   "metadata": {},
   "outputs": [
    {
     "data": {
      "text/plain": [
       "90548514656103281165404177077484163874504589675413336841320"
      ]
     },
     "execution_count": 5,
     "metadata": {},
     "output_type": "execute_result"
    }
   ],
   "source": [
    "binomial(200,100)"
   ]
  },
  {
   "cell_type": "code",
   "execution_count": null,
   "metadata": {},
   "outputs": [],
   "source": []
  },
  {
   "cell_type": "markdown",
   "metadata": {},
   "source": [
    "### Subconjunts"
   ]
  },
  {
   "cell_type": "code",
   "execution_count": 1,
   "metadata": {},
   "outputs": [
    {
     "data": {
      "text/plain": [
       "{0, 1, 2, 4}"
      ]
     },
     "execution_count": 1,
     "metadata": {},
     "output_type": "execute_result"
    }
   ],
   "source": [
    "S=Set([0,1,2,4])\n",
    "S"
   ]
  },
  {
   "cell_type": "code",
   "execution_count": 2,
   "metadata": {},
   "outputs": [
    {
     "data": {
      "text/plain": [
       "[{0}, {1}, {2}, {4}]"
      ]
     },
     "execution_count": 2,
     "metadata": {},
     "output_type": "execute_result"
    }
   ],
   "source": [
    "list(S.subsets(1))"
   ]
  },
  {
   "cell_type": "code",
   "execution_count": 3,
   "metadata": {},
   "outputs": [
    {
     "data": {
      "text/plain": [
       "4"
      ]
     },
     "execution_count": 3,
     "metadata": {},
     "output_type": "execute_result"
    }
   ],
   "source": [
    "binomial(4,1)"
   ]
  },
  {
   "cell_type": "code",
   "execution_count": 4,
   "metadata": {},
   "outputs": [
    {
     "data": {
      "text/plain": [
       "[{0, 1}, {0, 2}, {0, 4}, {1, 2}, {1, 4}, {2, 4}]"
      ]
     },
     "execution_count": 4,
     "metadata": {},
     "output_type": "execute_result"
    }
   ],
   "source": [
    "list(S.subsets(2))"
   ]
  },
  {
   "cell_type": "code",
   "execution_count": 5,
   "metadata": {},
   "outputs": [
    {
     "data": {
      "text/plain": [
       "6"
      ]
     },
     "execution_count": 5,
     "metadata": {},
     "output_type": "execute_result"
    }
   ],
   "source": [
    "binomial(4,2)"
   ]
  },
  {
   "cell_type": "code",
   "execution_count": 3,
   "metadata": {},
   "outputs": [
    {
     "data": {
      "text/plain": [
       "[{},\n",
       " {0},\n",
       " {1},\n",
       " {2},\n",
       " {4},\n",
       " {0, 1},\n",
       " {0, 2},\n",
       " {0, 4},\n",
       " {1, 2},\n",
       " {1, 4},\n",
       " {2, 4},\n",
       " {0, 1, 2},\n",
       " {0, 1, 4},\n",
       " {0, 2, 4},\n",
       " {1, 2, 4},\n",
       " {0, 1, 2, 4}]"
      ]
     },
     "execution_count": 3,
     "metadata": {},
     "output_type": "execute_result"
    }
   ],
   "source": [
    "list(S.subsets())"
   ]
  },
  {
   "cell_type": "code",
   "execution_count": 1,
   "metadata": {},
   "outputs": [
    {
     "data": {
      "text/plain": [
       "16"
      ]
     },
     "execution_count": 1,
     "metadata": {},
     "output_type": "execute_result"
    }
   ],
   "source": [
    "sum([binomial(4,i) for i in [0..4]])"
   ]
  },
  {
   "cell_type": "code",
   "execution_count": 2,
   "metadata": {},
   "outputs": [
    {
     "data": {
      "text/plain": [
       "16"
      ]
     },
     "execution_count": 2,
     "metadata": {},
     "output_type": "execute_result"
    }
   ],
   "source": [
    "2^4"
   ]
  },
  {
   "cell_type": "markdown",
   "metadata": {},
   "source": [
    "## Permutacions"
   ]
  },
  {
   "cell_type": "code",
   "execution_count": 11,
   "metadata": {},
   "outputs": [],
   "source": [
    "Permutations?"
   ]
  },
  {
   "cell_type": "markdown",
   "metadata": {},
   "source": [
    "Permutacions sense repetició de longitud 3 de [2,7,9]"
   ]
  },
  {
   "cell_type": "code",
   "execution_count": 1,
   "metadata": {
    "collapsed": true
   },
   "outputs": [
    {
     "data": {
      "text/plain": [
       "Permutations of the set [2, 7, 9]"
      ]
     },
     "execution_count": 1,
     "metadata": {},
     "output_type": "execute_result"
    }
   ],
   "source": [
    "P3=Permutations([2,7,9])\n",
    "P3"
   ]
  },
  {
   "cell_type": "code",
   "execution_count": 2,
   "metadata": {
    "collapsed": true
   },
   "outputs": [
    {
     "data": {
      "text/plain": [
       "6"
      ]
     },
     "execution_count": 2,
     "metadata": {},
     "output_type": "execute_result"
    }
   ],
   "source": [
    "P3.cardinality()"
   ]
  },
  {
   "cell_type": "code",
   "execution_count": 3,
   "metadata": {
    "collapsed": true
   },
   "outputs": [
    {
     "data": {
      "text/plain": [
       "[[2, 7, 9], [2, 9, 7], [7, 2, 9], [7, 9, 2], [9, 2, 7], [9, 7, 2]]"
      ]
     },
     "execution_count": 3,
     "metadata": {},
     "output_type": "execute_result"
    }
   ],
   "source": [
    "P3.list()"
   ]
  },
  {
   "cell_type": "markdown",
   "metadata": {},
   "source": [
    "Permutacions sense repetició de longitud 2 de [2,7,9]"
   ]
  },
  {
   "cell_type": "code",
   "execution_count": 4,
   "metadata": {
    "collapsed": true
   },
   "outputs": [
    {
     "data": {
      "text/plain": [
       "[[2, 7], [2, 9], [7, 2], [7, 9], [9, 2], [9, 7]]"
      ]
     },
     "execution_count": 4,
     "metadata": {},
     "output_type": "execute_result"
    }
   ],
   "source": [
    "Permutations([2,7,9],2).list()"
   ]
  },
  {
   "cell_type": "markdown",
   "metadata": {},
   "source": [
    "Permutacions amb repetició de longitud 2 de [2,7,9]"
   ]
  },
  {
   "cell_type": "code",
   "execution_count": 6,
   "metadata": {
    "collapsed": true
   },
   "outputs": [
    {
     "data": {
      "text/plain": [
       "[[2, 2], [2, 7], [2, 9], [7, 2], [7, 7], [7, 9], [9, 2], [9, 7], [9, 9]]"
      ]
     },
     "execution_count": 6,
     "metadata": {},
     "output_type": "execute_result"
    }
   ],
   "source": [
    "Permutations([2,2,7,7,9,9],2).list()"
   ]
  },
  {
   "cell_type": "markdown",
   "metadata": {},
   "source": [
    "Permutacions amb repetició limitada de longitud 4 de [2,7,9] tals que 2 es repeteix dos cops , 7 no es repeteix i 9 tampoc (apareixen els dos només un cop)."
   ]
  },
  {
   "cell_type": "code",
   "execution_count": 7,
   "metadata": {
    "collapsed": true
   },
   "outputs": [
    {
     "data": {
      "text/plain": [
       "[[2, 2, 7, 9],\n",
       " [2, 2, 9, 7],\n",
       " [2, 7, 2, 9],\n",
       " [2, 7, 9, 2],\n",
       " [2, 9, 2, 7],\n",
       " [2, 9, 7, 2],\n",
       " [7, 2, 2, 9],\n",
       " [7, 2, 9, 2],\n",
       " [7, 9, 2, 2],\n",
       " [9, 2, 2, 7],\n",
       " [9, 2, 7, 2],\n",
       " [9, 7, 2, 2]]"
      ]
     },
     "execution_count": 7,
     "metadata": {},
     "output_type": "execute_result"
    }
   ],
   "source": [
    "Permutations([2,2,7,9]).list()"
   ]
  },
  {
   "cell_type": "code",
   "execution_count": null,
   "metadata": {},
   "outputs": [],
   "source": []
  },
  {
   "cell_type": "markdown",
   "metadata": {},
   "source": [
    "## Combinacions"
   ]
  },
  {
   "cell_type": "markdown",
   "metadata": {},
   "source": [
    "Combinacions sense repetició de longitud 2 de [2,7,9]"
   ]
  },
  {
   "cell_type": "code",
   "execution_count": 8,
   "metadata": {
    "collapsed": true
   },
   "outputs": [
    {
     "data": {
      "text/plain": [
       "[[2, 7], [2, 9], [7, 9]]"
      ]
     },
     "execution_count": 8,
     "metadata": {},
     "output_type": "execute_result"
    }
   ],
   "source": [
    "Combinations([2,7,9],2).list()"
   ]
  },
  {
   "cell_type": "markdown",
   "metadata": {},
   "source": [
    "Combinacions amb repetició de longitud 2 de [2,7,9]"
   ]
  },
  {
   "cell_type": "code",
   "execution_count": 10,
   "metadata": {
    "collapsed": true
   },
   "outputs": [
    {
     "data": {
      "text/plain": [
       "[[2, 2], [2, 7], [2, 9], [7, 7], [7, 9], [9, 9]]"
      ]
     },
     "execution_count": 10,
     "metadata": {},
     "output_type": "execute_result"
    }
   ],
   "source": [
    "Combinations([2,2,7,7,9,9],2).list()"
   ]
  },
  {
   "cell_type": "markdown",
   "metadata": {},
   "source": [
    "Si les volem de longitud major, per no haver d'escriure tant, podem utilitzar les comandes de Python."
   ]
  },
  {
   "cell_type": "code",
   "execution_count": 40,
   "metadata": {},
   "outputs": [
    {
     "data": {
      "text/plain": [
       "[1, 1, 1, 1, 2, 2, 2, 2, 3, 3, 3, 3, 4, 4, 4, 4, 5, 5, 5, 5]"
      ]
     },
     "execution_count": 40,
     "metadata": {},
     "output_type": "execute_result"
    }
   ],
   "source": [
    "L=[]\n",
    "for i in [1..5]: L.extend([i for j in range(4)])\n",
    "L"
   ]
  },
  {
   "cell_type": "code",
   "execution_count": 38,
   "metadata": {},
   "outputs": [
    {
     "data": {
      "text/plain": [
       "70"
      ]
     },
     "execution_count": 38,
     "metadata": {},
     "output_type": "execute_result"
    }
   ],
   "source": [
    "C=Combinations(L,4).list()\n",
    "len(C)"
   ]
  },
  {
   "cell_type": "code",
   "execution_count": 39,
   "metadata": {},
   "outputs": [
    {
     "data": {
      "text/plain": [
       "[[1, 1, 1, 1],\n",
       " [1, 1, 1, 2],\n",
       " [1, 1, 1, 3],\n",
       " [1, 1, 1, 4],\n",
       " [1, 1, 1, 5],\n",
       " [1, 1, 2, 2],\n",
       " [1, 1, 2, 3],\n",
       " [1, 1, 2, 4],\n",
       " [1, 1, 2, 5],\n",
       " [1, 1, 3, 3],\n",
       " [1, 1, 3, 4],\n",
       " [1, 1, 3, 5],\n",
       " [1, 1, 4, 4],\n",
       " [1, 1, 4, 5],\n",
       " [1, 1, 5, 5],\n",
       " [1, 2, 2, 2],\n",
       " [1, 2, 2, 3],\n",
       " [1, 2, 2, 4],\n",
       " [1, 2, 2, 5],\n",
       " [1, 2, 3, 3],\n",
       " [1, 2, 3, 4],\n",
       " [1, 2, 3, 5],\n",
       " [1, 2, 4, 4],\n",
       " [1, 2, 4, 5],\n",
       " [1, 2, 5, 5],\n",
       " [1, 3, 3, 3],\n",
       " [1, 3, 3, 4],\n",
       " [1, 3, 3, 5],\n",
       " [1, 3, 4, 4],\n",
       " [1, 3, 4, 5],\n",
       " [1, 3, 5, 5],\n",
       " [1, 4, 4, 4],\n",
       " [1, 4, 4, 5],\n",
       " [1, 4, 5, 5],\n",
       " [1, 5, 5, 5],\n",
       " [2, 2, 2, 2],\n",
       " [2, 2, 2, 3],\n",
       " [2, 2, 2, 4],\n",
       " [2, 2, 2, 5],\n",
       " [2, 2, 3, 3],\n",
       " [2, 2, 3, 4],\n",
       " [2, 2, 3, 5],\n",
       " [2, 2, 4, 4],\n",
       " [2, 2, 4, 5],\n",
       " [2, 2, 5, 5],\n",
       " [2, 3, 3, 3],\n",
       " [2, 3, 3, 4],\n",
       " [2, 3, 3, 5],\n",
       " [2, 3, 4, 4],\n",
       " [2, 3, 4, 5],\n",
       " [2, 3, 5, 5],\n",
       " [2, 4, 4, 4],\n",
       " [2, 4, 4, 5],\n",
       " [2, 4, 5, 5],\n",
       " [2, 5, 5, 5],\n",
       " [3, 3, 3, 3],\n",
       " [3, 3, 3, 4],\n",
       " [3, 3, 3, 5],\n",
       " [3, 3, 4, 4],\n",
       " [3, 3, 4, 5],\n",
       " [3, 3, 5, 5],\n",
       " [3, 4, 4, 4],\n",
       " [3, 4, 4, 5],\n",
       " [3, 4, 5, 5],\n",
       " [3, 5, 5, 5],\n",
       " [4, 4, 4, 4],\n",
       " [4, 4, 4, 5],\n",
       " [4, 4, 5, 5],\n",
       " [4, 5, 5, 5],\n",
       " [5, 5, 5, 5]]"
      ]
     },
     "execution_count": 39,
     "metadata": {},
     "output_type": "execute_result"
    }
   ],
   "source": [
    "C"
   ]
  },
  {
   "cell_type": "code",
   "execution_count": null,
   "metadata": {},
   "outputs": [],
   "source": []
  },
  {
   "cell_type": "markdown",
   "metadata": {},
   "source": [
    "# Principi Inclusió-Exclusió"
   ]
  },
  {
   "cell_type": "markdown",
   "metadata": {},
   "source": [
    "Hem comptat 25 primers en l'interval $[1,100]$. Ara podem comprovar aquest resultat trobant-los explícitament."
   ]
  },
  {
   "cell_type": "code",
   "execution_count": 39,
   "metadata": {},
   "outputs": [],
   "source": [
    "primers=[k for k in [1..100] if is_prime(k)]\n",
    "#for k in [1..100]:\n",
    "#    if is_prime(k):\n",
    "#        primers.append(k)"
   ]
  },
  {
   "cell_type": "code",
   "execution_count": 40,
   "metadata": {},
   "outputs": [
    {
     "data": {
      "text/plain": [
       "25"
      ]
     },
     "execution_count": 40,
     "metadata": {},
     "output_type": "execute_result"
    }
   ],
   "source": [
    "len(primers)"
   ]
  },
  {
   "cell_type": "code",
   "execution_count": 41,
   "metadata": {},
   "outputs": [
    {
     "data": {
      "text/plain": [
       "[2,\n",
       " 3,\n",
       " 5,\n",
       " 7,\n",
       " 11,\n",
       " 13,\n",
       " 17,\n",
       " 19,\n",
       " 23,\n",
       " 29,\n",
       " 31,\n",
       " 37,\n",
       " 41,\n",
       " 43,\n",
       " 47,\n",
       " 53,\n",
       " 59,\n",
       " 61,\n",
       " 67,\n",
       " 71,\n",
       " 73,\n",
       " 79,\n",
       " 83,\n",
       " 89,\n",
       " 97]"
      ]
     },
     "execution_count": 41,
     "metadata": {},
     "output_type": "execute_result"
    }
   ],
   "source": [
    "primers"
   ]
  },
  {
   "cell_type": "code",
   "execution_count": 2,
   "metadata": {},
   "outputs": [],
   "source": [
    "primers=list(filter(lambda x: x.is_prime(),[1..100]))"
   ]
  },
  {
   "cell_type": "code",
   "execution_count": 3,
   "metadata": {},
   "outputs": [
    {
     "data": {
      "text/plain": [
       "25"
      ]
     },
     "execution_count": 3,
     "metadata": {},
     "output_type": "execute_result"
    }
   ],
   "source": [
    "len(primers)"
   ]
  },
  {
   "cell_type": "code",
   "execution_count": null,
   "metadata": {},
   "outputs": [],
   "source": []
  },
  {
   "cell_type": "markdown",
   "metadata": {},
   "source": [
    "## Comanda per trobar totes les solucions d'una equació diofantina linial"
   ]
  },
  {
   "cell_type": "markdown",
   "metadata": {},
   "source": [
    "Volem trobar totes les solucions de l'equació\n",
    "\n",
    "$$x_1+x_2+x_3=5$$\n",
    "\n",
    "amb les condicions $x_i\\in\\mathbb{N}$ per a $1\\leq i\\leq3$."
   ]
  },
  {
   "cell_type": "code",
   "execution_count": null,
   "metadata": {},
   "outputs": [],
   "source": [
    "IntegerVectors?"
   ]
  },
  {
   "cell_type": "code",
   "execution_count": 2,
   "metadata": {
    "collapsed": true
   },
   "outputs": [
    {
     "data": {
      "text/plain": [
       "21"
      ]
     },
     "execution_count": 2,
     "metadata": {},
     "output_type": "execute_result"
    }
   ],
   "source": [
    "VV=IntegerVectors(5,3)\n",
    "VV.cardinality()"
   ]
  },
  {
   "cell_type": "code",
   "execution_count": 3,
   "metadata": {
    "collapsed": true
   },
   "outputs": [
    {
     "data": {
      "text/plain": [
       "[[5, 0, 0],\n",
       " [4, 1, 0],\n",
       " [4, 0, 1],\n",
       " [3, 2, 0],\n",
       " [3, 1, 1],\n",
       " [3, 0, 2],\n",
       " [2, 3, 0],\n",
       " [2, 2, 1],\n",
       " [2, 1, 2],\n",
       " [2, 0, 3],\n",
       " [1, 4, 0],\n",
       " [1, 3, 1],\n",
       " [1, 2, 2],\n",
       " [1, 1, 3],\n",
       " [1, 0, 4],\n",
       " [0, 5, 0],\n",
       " [0, 4, 1],\n",
       " [0, 3, 2],\n",
       " [0, 2, 3],\n",
       " [0, 1, 4],\n",
       " [0, 0, 5]]"
      ]
     },
     "execution_count": 3,
     "metadata": {},
     "output_type": "execute_result"
    }
   ],
   "source": [
    "VV.list()"
   ]
  },
  {
   "cell_type": "code",
   "execution_count": null,
   "metadata": {},
   "outputs": [],
   "source": []
  },
  {
   "cell_type": "markdown",
   "metadata": {},
   "source": [
    "## Codis"
   ]
  },
  {
   "cell_type": "code",
   "execution_count": 1,
   "metadata": {},
   "outputs": [
    {
     "data": {
      "text/plain": [
       "10888869450418352160768000000"
      ]
     },
     "execution_count": 1,
     "metadata": {},
     "output_type": "execute_result"
    }
   ],
   "source": [
    "factorial(27)"
   ]
  },
  {
   "cell_type": "code",
   "execution_count": 73,
   "metadata": {},
   "outputs": [],
   "source": [
    "C='ABCDEFGHIJKLMNOPQRSTUVWXYZ_'"
   ]
  },
  {
   "cell_type": "code",
   "execution_count": 76,
   "metadata": {},
   "outputs": [
    {
     "data": {
      "text/plain": [
       "'AB'"
      ]
     },
     "execution_count": 76,
     "metadata": {},
     "output_type": "execute_result"
    }
   ],
   "source": [
    "'A'+'B'"
   ]
  },
  {
   "cell_type": "code",
   "execution_count": 75,
   "metadata": {},
   "outputs": [
    {
     "data": {
      "text/plain": [
       "27"
      ]
     },
     "execution_count": 75,
     "metadata": {},
     "output_type": "execute_result"
    }
   ],
   "source": [
    "len(C)"
   ]
  },
  {
   "cell_type": "code",
   "execution_count": 3,
   "metadata": {},
   "outputs": [],
   "source": [
    "def caesarX(F,k):\n",
    "    C='ABCDEFGHIJKLMNOPQRSTUVWXYZ_'\n",
    "    longF=len(F)\n",
    "    Fcodif=''\n",
    "    for i in range(longF):\n",
    "        ii=C.index(F[i])\n",
    "        j=(ii+k)%27\n",
    "        Fcodif+=C[j]\n",
    "    return Fcodif"
   ]
  },
  {
   "cell_type": "code",
   "execution_count": 92,
   "metadata": {
    "collapsed": true
   },
   "outputs": [
    {
     "data": {
      "text/plain": [
       "'LUZGKLZJVUMPUHYLT'"
      ]
     },
     "execution_count": 92,
     "metadata": {},
     "output_type": "execute_result"
    }
   ],
   "source": [
    "caesarX('ENS_DESCONFINAREM',7)"
   ]
  },
  {
   "cell_type": "code",
   "execution_count": 91,
   "metadata": {
    "collapsed": true
   },
   "outputs": [
    {
     "data": {
      "text/plain": [
       "'UAYN'"
      ]
     },
     "execution_count": 91,
     "metadata": {},
     "output_type": "execute_result"
    }
   ],
   "source": [
    "caesarX('HOLA',13)"
   ]
  },
  {
   "cell_type": "code",
   "execution_count": 4,
   "metadata": {},
   "outputs": [],
   "source": [
    "def caesarD(F,k):\n",
    "    C='ABCDEFGHIJKLMNOPQRSTUVWXYZ_'\n",
    "    longF=len(F)\n",
    "    Fcodif=''\n",
    "    for i in range(longF):\n",
    "        ii=C.index(F[i])\n",
    "        j=(ii-k)%27\n",
    "        Fcodif+=C[j]\n",
    "    return Fcodif"
   ]
  },
  {
   "cell_type": "code",
   "execution_count": 99,
   "metadata": {
    "collapsed": true
   },
   "outputs": [
    {
     "data": {
      "text/plain": [
       "'ENS_DESCONFINAREM'"
      ]
     },
     "execution_count": 99,
     "metadata": {},
     "output_type": "execute_result"
    }
   ],
   "source": [
    "caesarD('LUZGKLZJVUMPUHYLT',7)"
   ]
  },
  {
   "cell_type": "code",
   "execution_count": null,
   "metadata": {},
   "outputs": [],
   "source": []
  },
  {
   "cell_type": "code",
   "execution_count": 101,
   "metadata": {},
   "outputs": [
    {
     "data": {
      "text/plain": [
       "10888869450418352160768000000"
      ]
     },
     "execution_count": 101,
     "metadata": {},
     "output_type": "execute_result"
    }
   ],
   "source": [
    "factorial(27)"
   ]
  },
  {
   "cell_type": "code",
   "execution_count": 68,
   "metadata": {},
   "outputs": [
    {
     "data": {
      "text/plain": [
       "591315394579074378"
      ]
     },
     "execution_count": 68,
     "metadata": {},
     "output_type": "execute_result"
    }
   ],
   "source": [
    "binomial(15+105-1,105)"
   ]
  },
  {
   "cell_type": "code",
   "execution_count": 72,
   "metadata": {},
   "outputs": [
    {
     "data": {
      "text/plain": [
       "3000680514334863360000"
      ]
     },
     "execution_count": 72,
     "metadata": {},
     "output_type": "execute_result"
    }
   ],
   "source": [
    "factorial(27)/factorial(10)"
   ]
  },
  {
   "cell_type": "code",
   "execution_count": 102,
   "metadata": {},
   "outputs": [],
   "source": [
    "P=Permutations([i for i in range(27)])"
   ]
  },
  {
   "cell_type": "markdown",
   "metadata": {},
   "source": [
    "**Cuidado amb la següent comanda:** Cada cop que s'executa (sense argument) dóna una permutació diferent. Això és la idea, una permutació aleatòria cada cop que ho demanem (amb probabilitat molt baixa d'obteni la mateixa resposta)."
   ]
  },
  {
   "cell_type": "code",
   "execution_count": 103,
   "metadata": {
    "collapsed": true
   },
   "outputs": [
    {
     "data": {
      "text/plain": [
       "[0,\n",
       " 2,\n",
       " 12,\n",
       " 14,\n",
       " 26,\n",
       " 5,\n",
       " 8,\n",
       " 22,\n",
       " 6,\n",
       " 21,\n",
       " 20,\n",
       " 7,\n",
       " 19,\n",
       " 16,\n",
       " 10,\n",
       " 25,\n",
       " 11,\n",
       " 9,\n",
       " 24,\n",
       " 13,\n",
       " 3,\n",
       " 18,\n",
       " 1,\n",
       " 17,\n",
       " 15,\n",
       " 4,\n",
       " 23]"
      ]
     },
     "execution_count": 103,
     "metadata": {},
     "output_type": "execute_result"
    }
   ],
   "source": [
    "P.random_element()"
   ]
  },
  {
   "cell_type": "code",
   "execution_count": 3,
   "metadata": {},
   "outputs": [],
   "source": [
    "p=[0,2,12,14,26,5,8,22,6,21,20,7,19,16,10,25,11,9,24,13,3,18,1,17,15,4,23]"
   ]
  },
  {
   "cell_type": "code",
   "execution_count": 43,
   "metadata": {},
   "outputs": [],
   "source": [
    "def permX(M,p):\n",
    "    C='ABCDEFGHIJKLMNOPQRSTUVWXYZ_'\n",
    "    longM=len(M)\n",
    "    codifM=''\n",
    "    for i in range(longM):\n",
    "        j=C.index(M[i])\n",
    "        codifM+=C[p[j]]\n",
    "    return codifM"
   ]
  },
  {
   "cell_type": "code",
   "execution_count": 44,
   "metadata": {
    "collapsed": true
   },
   "outputs": [
    {
     "data": {
      "text/plain": [
       "'_QYXO_YMKQFGQAJ_T'"
      ]
     },
     "execution_count": 44,
     "metadata": {},
     "output_type": "execute_result"
    }
   ],
   "source": [
    "permX('ENS_DESCONFINAREM',p)"
   ]
  },
  {
   "cell_type": "code",
   "execution_count": 45,
   "metadata": {},
   "outputs": [],
   "source": [
    "def permD(M,p):\n",
    "    C='ABCDEFGHIJKLMNOPQRSTUVWXYZ_'\n",
    "    invp=[]\n",
    "    longp=len(p)\n",
    "    for i in range(longp):\n",
    "        j=p.index(i)\n",
    "        invp.append(j)\n",
    "    longM=len(M)\n",
    "    codifM=''\n",
    "    for i in range(longM):\n",
    "        j=C.index(M[i])\n",
    "        codifM+=C[invp[j]]\n",
    "    return codifM"
   ]
  },
  {
   "cell_type": "code",
   "execution_count": 46,
   "metadata": {
    "collapsed": true
   },
   "outputs": [
    {
     "data": {
      "text/plain": [
       "'ENS_DESCONFINAREM'"
      ]
     },
     "execution_count": 46,
     "metadata": {},
     "output_type": "execute_result"
    }
   ],
   "source": [
    "permD('_QYXO_YMKQFGQAJ_T',p)"
   ]
  },
  {
   "cell_type": "markdown",
   "metadata": {},
   "source": [
    "Per buscar la permutació inversa, s'ha de tenir en compte que *SageMath* treballa, per defecte, amb les permutacions del conjunt $S'=\\{1,2,\\ldots,n\\}$, en comptes de $S=\\{0,1,\\ldots,n-1\\}$. La nostra permutació $p$ és del conjunt $S$, no de $S'$. Llavors, sumem una unitat a cada element de $p$ i la convertim en una permutació de $S'$."
   ]
  },
  {
   "cell_type": "code",
   "execution_count": 4,
   "metadata": {},
   "outputs": [],
   "source": [
    "p2=list(map(lambda x: x+1,p))"
   ]
  },
  {
   "cell_type": "code",
   "execution_count": 133,
   "metadata": {
    "collapsed": true
   },
   "outputs": [
    {
     "data": {
      "text/plain": [
       "[1,\n",
       " 3,\n",
       " 13,\n",
       " 15,\n",
       " 27,\n",
       " 6,\n",
       " 9,\n",
       " 23,\n",
       " 7,\n",
       " 22,\n",
       " 21,\n",
       " 8,\n",
       " 20,\n",
       " 17,\n",
       " 11,\n",
       " 26,\n",
       " 12,\n",
       " 10,\n",
       " 25,\n",
       " 14,\n",
       " 4,\n",
       " 19,\n",
       " 2,\n",
       " 18,\n",
       " 16,\n",
       " 5,\n",
       " 24]"
      ]
     },
     "execution_count": 133,
     "metadata": {},
     "output_type": "execute_result"
    }
   ],
   "source": [
    "p2"
   ]
  },
  {
   "cell_type": "markdown",
   "metadata": {},
   "source": [
    "Ara ja podem buscar l'inversa de $p$ (respecte del conjunt $S$). Aquesta inversa la denotem per $q_2$."
   ]
  },
  {
   "cell_type": "code",
   "execution_count": 5,
   "metadata": {},
   "outputs": [],
   "source": [
    "q2=Permutation.inverse(p2)"
   ]
  },
  {
   "cell_type": "code",
   "execution_count": 6,
   "metadata": {},
   "outputs": [
    {
     "data": {
      "text/plain": [
       "[1, 23, 2, 21, 26, 6, 9, 12, 7, 18, 15, 17, 3, 20, 4, 25, 14, 24, 22, 13, 11, 10, 8, 27, 19, 16, 5]"
      ]
     },
     "execution_count": 6,
     "metadata": {},
     "output_type": "execute_result"
    }
   ],
   "source": [
    "q2"
   ]
  },
  {
   "cell_type": "markdown",
   "metadata": {},
   "source": [
    "Ara agafem $q_2$ (que es una permutació de $S'$) i la convertim en una permutació de $S$ restant una unitat a cada element."
   ]
  },
  {
   "cell_type": "code",
   "execution_count": 8,
   "metadata": {},
   "outputs": [],
   "source": [
    "q=list(map(lambda x: x-1,q2))"
   ]
  },
  {
   "cell_type": "code",
   "execution_count": 9,
   "metadata": {},
   "outputs": [
    {
     "data": {
      "text/plain": [
       "[0,\n",
       " 22,\n",
       " 1,\n",
       " 20,\n",
       " 25,\n",
       " 5,\n",
       " 8,\n",
       " 11,\n",
       " 6,\n",
       " 17,\n",
       " 14,\n",
       " 16,\n",
       " 2,\n",
       " 19,\n",
       " 3,\n",
       " 24,\n",
       " 13,\n",
       " 23,\n",
       " 21,\n",
       " 12,\n",
       " 10,\n",
       " 9,\n",
       " 7,\n",
       " 26,\n",
       " 18,\n",
       " 15,\n",
       " 4]"
      ]
     },
     "execution_count": 9,
     "metadata": {},
     "output_type": "execute_result"
    }
   ],
   "source": [
    "q"
   ]
  },
  {
   "cell_type": "markdown",
   "metadata": {},
   "source": [
    "Noteu que no cal trobar la inversa $q$ abans d'aplicar la comanda de desxifrat, la mateixa comanda ja la troba per vosaltres a les línies 5, 6 i 7 i l'anomena *invp*."
   ]
  },
  {
   "cell_type": "code",
   "execution_count": null,
   "metadata": {},
   "outputs": [],
   "source": []
  },
  {
   "cell_type": "code",
   "execution_count": null,
   "metadata": {},
   "outputs": [],
   "source": []
  },
  {
   "cell_type": "code",
   "execution_count": null,
   "metadata": {},
   "outputs": [],
   "source": []
  }
 ],
 "metadata": {
  "kernelspec": {
   "display_name": "SageMath 9.3",
   "language": "sage",
   "name": "sagemath"
  },
  "language": "python",
  "language_info": {
   "codemirror_mode": {
    "name": "ipython",
    "version": 3
   },
   "file_extension": ".py",
   "mimetype": "text/x-python",
   "name": "python",
   "nbconvert_exporter": "python",
   "pygments_lexer": "ipython3",
   "version": "3.9.6"
  }
 },
 "nbformat": 4,
 "nbformat_minor": 2
}
